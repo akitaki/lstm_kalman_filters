{
 "cells": [
  {
   "cell_type": "code",
   "execution_count": 1,
   "metadata": {},
   "outputs": [],
   "source": [
    "import os\n",
    "import sys\n",
    "import subprocess\n",
    "import time\n",
    "import pickle\n",
    "import numpy as np\n",
    "import cupy as cp\n",
    "\n",
    "import pandas as pd\n",
    "import matplotlib.pyplot as plt\n",
    "%matplotlib inline\n",
    "import seaborn as sns\n",
    "sns.set()\n",
    "\n",
    "import matplotlib as mpl\n",
    "mpl.rcParams['figure.figsize'] = (18,12)\n",
    "mpl.rcParams['axes.grid'] = False\n",
    "sns.set_style('whitegrid')\n",
    "\n",
    "from sklearn.metrics import mean_squared_error"
   ]
  },
  {
   "cell_type": "code",
   "execution_count": 2,
   "metadata": {},
   "outputs": [],
   "source": [
    "# Simulation variables\n",
    "iter = 100 # Number of iterations\n",
    "num_samples = 640 # Number of sequences to generate\n",
    "dof = 10\n",
    "\n",
    "rng = cp.random.default_rng()\n",
    "\n",
    "# Arrays to store results\n",
    "results_x = cp.empty((2*dof,num_samples*iter+num_samples))\n",
    "results_x_hat = cp.zeros((2*dof,num_samples*iter+num_samples))\n",
    "results_y = cp.zeros((dof,num_samples*iter+num_samples))\n",
    "results_P = cp.zeros(num_samples*iter+num_samples)\n",
    "results_est_err = cp.zeros((2*dof,num_samples*iter+num_samples))\n",
    "results_m_err = cp.zeros((dof,num_samples*iter+num_samples))"
   ]
  },
  {
   "cell_type": "code",
   "execution_count": 3,
   "metadata": {},
   "outputs": [],
   "source": [
    "# Discretize LTI system\n",
    "dt = 0.01\n",
    "subprocess.check_output([sys.executable, \"cont2discrete_helper.py\",f\"{dof}\",f\"{dt}\"])\n",
    "with open('d_system.pickle', 'rb') as f:\n",
    "     d_system = pickle.load(f)\n",
    "\n",
    "A = cp.asarray(d_system[0]) # Process matrix\n",
    "B = cp.asarray(d_system[1]) # Input gain\n",
    "H = cp.asarray(d_system[2]) # Measurement matrix"
   ]
  },
  {
   "cell_type": "code",
   "execution_count": 4,
   "metadata": {},
   "outputs": [],
   "source": [
    "# Noise parameters\n",
    "sigma_p = 0.1 # Standard deviation of process noise\n",
    "sigma_p_diag = (sigma_p**2)*cp.ones(2*dof)\n",
    "Q = cp.diag(sigma_p_diag)\n",
    "\n",
    "sigma_m = 0.25 # Standard deviation of measurement noise\n",
    "sigma_m_diag = (sigma_m**2)*cp.ones(dof)\n",
    "R = cp.diag(sigma_m_diag)"
   ]
  },
  {
   "cell_type": "code",
   "execution_count": 5,
   "metadata": {},
   "outputs": [
    {
     "name": "stderr",
     "output_type": "stream",
     "text": [
      "c:\\Users\\Aki\\AppData\\Local\\Programs\\Python\\Python310\\lib\\site-packages\\cupy\\random\\_distributions.py:476: FutureWarning: cupy.random.multivariate_normal is experimental. The interface can change in the future.\n",
      "  _util.experimental('cupy.random.multivariate_normal')\n",
      "c:\\Users\\Aki\\AppData\\Local\\Programs\\Python\\Python310\\lib\\site-packages\\cupy\\random\\_generator.py:337: FutureWarning: cupy.random.RandomState.multivariate_normal is experimental. The interface can change in the future.\n",
      "  _util.experimental('cupy.random.RandomState.multivariate_normal')\n"
     ]
    }
   ],
   "source": [
    "# Simulation\n",
    "kf_time = 0\n",
    "\n",
    "for b in range(num_samples):\n",
    "    P = cp.identity(2*dof) # Initial covariance matrix for estimation error\n",
    "    x_hat = cp.zeros((2*dof,1)) # Initial state estimate\n",
    "    x = cp.random.multivariate_normal(cp.zeros(2*dof), Q).reshape(-1,1) # Initial true state\n",
    "\n",
    "    # Store initial values\n",
    "    results_x[:,b*(iter+1):b*(iter+1)+1] = x\n",
    "    results_x_hat[:,b*(iter+1):b*(iter+1)+1] = x_hat\n",
    "    results_y[:,b*(iter+1):b*(iter+1)+1] = cp.zeros((dof,1))\n",
    "    results_P[b*(iter+1):b*(iter+1)+1] = cp.trace(P)\n",
    "\n",
    "    # Record initial values for measurement\n",
    "    v_0 = cp.random.multivariate_normal(cp.zeros(dof),R).reshape(-1,1)\n",
    "    \n",
    "    y = H.dot(x) + v_0 # Initial measurement\n",
    "\n",
    "    input_cov = cp.full(dof,1)\n",
    "    input_cov_matrix = cp.diag(input_cov) # mean and standard deviation for white noise icputs\n",
    "    U = cp.random.multivariate_normal(cp.zeros(dof), input_cov_matrix, iter)\n",
    "    W = cp.random.multivariate_normal(cp.zeros(2*dof), Q, iter)\n",
    "    V = cp.random.multivariate_normal(cp.zeros(dof), R, iter)\n",
    "\n",
    "    results_m_err[:,b+(iter+1):b*(iter+1)+1] = x[0::2]-y # Record initial measurement error\n",
    "    results_y[:,b*(iter+1):b*(iter+1)+1] = y # Record initial measurement\n",
    "    \n",
    "    for t in range(1,iter+1):\n",
    "        w = W[t-1].reshape(-1,1) # Process noise at time t\n",
    "        v = V[t-1].reshape(-1,1) # Measurement noise at time t\n",
    "        u = U[t-1].reshape(-1,1) #cp.sin(2*cp.pi*freq*t) - cp.array([x[0],x[2],x[4],x[6],x[8],x[10]]).reshape(-1,1)\n",
    "\n",
    "        x = A.dot(x)+B.dot(u) + w # State at time t\n",
    "        y = H.dot(x) + v # Measurement at time t\n",
    "        results_m_err[:,b*(iter+1)+t:b*(iter+1)+1] = x[0::2]-y # Store measurement error at time t\n",
    "\n",
    "        st = time.process_time()\n",
    "        # Predict\n",
    "        x_hat = A.dot(x_hat)+B.dot(u) # Predict state estimate\n",
    "        P = A.dot(P).dot(A.conj().transpose())+Q # Predict estimate covariance matrix\n",
    "\n",
    "        # Update\n",
    "        K = P.dot(H.conj().transpose()).dot(cp.linalg.inv(H.dot(P).dot(H.conj().transpose())+R)) # Get optimal Kalman gain\n",
    "        x_hat = x_hat + K.dot(y - H.dot(x_hat)) # Update state estimate\n",
    "        P = (cp.identity(2*dof) - K.dot(H)).dot(P).dot((cp.identity(2*dof) - K.dot(H)).conj().transpose())+K.dot(R).dot(K.conj().transpose()) # Update estimate covariance matrix\n",
    "        et = time.process_time()\n",
    "\n",
    "        kf_time += (et-st)\n",
    "        results_x[:,b*(iter+1)+t:b*(iter+1)+t+1] = x # Store true state at time t\n",
    "        results_x_hat[:,b*(iter+1)+t:b*(iter+1)+t+1] = x_hat # Store state estimate at time t\n",
    "        results_y[:,b*(iter+1)+t:b*(iter+1)+t+1] = y # Store measurement at time t\n",
    "        results_est_err[:,b*(iter+1)+t:b*(iter+1)+t+1] = x - x_hat # Store MSE between true state and predicted state at time t\n",
    "        results_P[b*(iter+1)+t:b*(iter+1)+t+1] = cp.trace(P)"
   ]
  },
  {
   "cell_type": "code",
   "execution_count": 6,
   "metadata": {},
   "outputs": [
    {
     "data": {
      "text/plain": [
       "'\\n# Plot results\\nfig = plt.figure(figsize=(48,6*dof))\\n\\nfor i in range(dof):\\n    plt.subplot(2*dof+1, 2, 4*i+1)\\n    plt.plot(results_x[2*i,:],\\'tab:purple\\',label=\\'True State\\')\\n    plt.plot(results_y[i,:],\\'.\\',label=\\'Measurement\\')\\n    plt.plot(results_x_hat[2*i,:],\\'r\\',label=\\'Kalman\\')\\n    plt.legend()\\n    plt.xlabel(\\'Time\\')\\n    plt.ylabel(f\"x{i+1}\")\\n\\n    plt.subplot(2*dof+1, 2, 4*i+2)\\n    plt.plot(results_est_err[2*i,:],\\'r\\',label=\\'Kalman\\')\\n    plt.legend()\\n    plt.xlabel(\\'Time\\')\\n    plt.ylabel(f\"x{i+1} error\")\\n\\n    plt.subplot(2*dof+1, 2, 4*i+3)\\n    plt.plot(results_x[2*i+1,:],\\'tab:purple\\',label=\\'True State\\')\\n    plt.plot(results_x_hat[2*i+1,:],\\'r\\',label=\\'Kalman\\')\\n    plt.legend()\\n    plt.xlabel(\\'Time\\')\\n    plt.ylabel(f\"x\\'{i+1}\")\\n\\n    plt.subplot(2*dof+1, 2, 4*i+4)\\n    plt.plot(results_est_err[2*i+1,:],\\'r\\',label=\\'Kalman\\')\\n    plt.legend()\\n    plt.xlabel(\\'Time\\')\\n    plt.ylabel(f\"x\\'{i+1} error\")\\n\\nplt.subplot(2*dof+1, 2, 4*dof+1)\\nplt.plot(results_P,\\'r\\',label=\\'Kalman\\')\\nplt.xlabel(\\'Time\\')\\nplt.ylabel(\\'Tr(P)\\');\\n'"
      ]
     },
     "execution_count": 6,
     "metadata": {},
     "output_type": "execute_result"
    }
   ],
   "source": [
    "'''\n",
    "# Plot results\n",
    "fig = plt.figure(figsize=(48,6*dof))\n",
    "\n",
    "for i in range(dof):\n",
    "    plt.subplot(2*dof+1, 2, 4*i+1)\n",
    "    plt.plot(results_x[2*i,:],'tab:purple',label='True State')\n",
    "    plt.plot(results_y[i,:],'.',label='Measurement')\n",
    "    plt.plot(results_x_hat[2*i,:],'r',label='Kalman')\n",
    "    plt.legend()\n",
    "    plt.xlabel('Time')\n",
    "    plt.ylabel(f\"x{i+1}\")\n",
    "\n",
    "    plt.subplot(2*dof+1, 2, 4*i+2)\n",
    "    plt.plot(results_est_err[2*i,:],'r',label='Kalman')\n",
    "    plt.legend()\n",
    "    plt.xlabel('Time')\n",
    "    plt.ylabel(f\"x{i+1} error\")\n",
    "\n",
    "    plt.subplot(2*dof+1, 2, 4*i+3)\n",
    "    plt.plot(results_x[2*i+1,:],'tab:purple',label='True State')\n",
    "    plt.plot(results_x_hat[2*i+1,:],'r',label='Kalman')\n",
    "    plt.legend()\n",
    "    plt.xlabel('Time')\n",
    "    plt.ylabel(f\"x'{i+1}\")\n",
    "\n",
    "    plt.subplot(2*dof+1, 2, 4*i+4)\n",
    "    plt.plot(results_est_err[2*i+1,:],'r',label='Kalman')\n",
    "    plt.legend()\n",
    "    plt.xlabel('Time')\n",
    "    plt.ylabel(f\"x'{i+1} error\")\n",
    "\n",
    "plt.subplot(2*dof+1, 2, 4*dof+1)\n",
    "plt.plot(results_P,'r',label='Kalman')\n",
    "plt.xlabel('Time')\n",
    "plt.ylabel('Tr(P)');\n",
    "'''"
   ]
  },
  {
   "cell_type": "code",
   "execution_count": 7,
   "metadata": {},
   "outputs": [
    {
     "name": "stdout",
     "output_type": "stream",
     "text": [
      "Sample MSE: 24.58185915505308\n",
      "Sample MSE (Var): 23.052680163929047\n",
      "Average theoretical MSE: 55.83221082851931\n",
      "KF test set time: 18.990625 ms\n"
     ]
    }
   ],
   "source": [
    "sample_mse = 0\n",
    "for i in range(2*dof):\n",
    "    sample_mse = sample_mse + mean_squared_error(cp.asnumpy(results_x[:iter,i]),cp.asnumpy(results_x_hat[:iter,i]))\n",
    "\n",
    "sample_mse_var = 0\n",
    "for i in range(2*dof):\n",
    "    sample_mse_var = sample_mse_var + cp.var(cp.asnumpy(results_est_err[:iter,i]))\n",
    "\n",
    "trP = results_P[iter-1]\n",
    "\n",
    "print(f\"Sample MSE: {sample_mse}\")\n",
    "print(f\"Sample MSE (Var): {sample_mse_var}\")\n",
    "print(f\"Average theoretical MSE: {cp.mean(results_P)}\")\n",
    "print(f\"KF test set time: {0.2*kf_time} ms\")"
   ]
  },
  {
   "cell_type": "code",
   "execution_count": 8,
   "metadata": {},
   "outputs": [],
   "source": [
    "# Export data to CSV\n",
    "x_export = cp.asnumpy(results_x.transpose())\n",
    "x_hat_export = cp.asnumpy(results_x_hat.transpose())\n",
    "y_export = cp.asnumpy(results_y.transpose())\n",
    "\n",
    "x_export = np.delete(x_export, np.linspace(0,(num_samples-1)*(iter+1),num_samples,dtype=int), axis=0)\n",
    "x_hat_export = np.delete(x_hat_export, np.linspace(0,(num_samples-1)*(iter+1),num_samples,dtype=int), axis=0)\n",
    "y_export = np.delete(y_export, np.linspace(0,(num_samples-1)*(iter+1),num_samples,dtype=int), axis=0)\n",
    "\n",
    "export = np.concatenate((y_export, x_export),axis=1)\n",
    "\n",
    "data_header = \"y1\"\n",
    "for i in range(2,dof+1):\n",
    "    data_header = data_header + \",\" + f\"y{i}\"\n",
    "for i in range(1,2*dof+1):\n",
    "    data_header = data_header + \",\" + f\"x{i}\"\n",
    "\n",
    "kalman_results_header = \"x1_hat\"\n",
    "for i in range(2,2*dof+1):\n",
    "    kalman_results_header = kalman_results_header + \",\" + f\"x{i}_hat\"\n",
    "\n",
    "# [batch size]_[num batches]_[sequence length]\n",
    "np.savetxt(\"Data/data_10dof_smd_independent_samples_32_20_100_cupy.csv\", export, delimiter=',', header=data_header, comments=\"\")\n",
    "np.savetxt(\"Data/kalman_results_10dof_smd_independent_samples_32_20_100_cupy.csv\", x_hat_export, delimiter=',', header=kalman_results_header, comments=\"\")\n",
    "\n",
    "os.remove('d_system.pickle')\n"
   ]
  },
  {
   "attachments": {},
   "cell_type": "markdown",
   "metadata": {},
   "source": []
  }
 ],
 "metadata": {
  "interpreter": {
   "hash": "f56a65a522487a1e596b4b831299e24ce3858362e89445d6c0dfeb71b4d2cf0c"
  },
  "kernelspec": {
   "display_name": "Python 3.10.2 64-bit",
   "language": "python",
   "name": "python3"
  },
  "language_info": {
   "codemirror_mode": {
    "name": "ipython",
    "version": 3
   },
   "file_extension": ".py",
   "mimetype": "text/x-python",
   "name": "python",
   "nbconvert_exporter": "python",
   "pygments_lexer": "ipython3",
   "version": "3.10.4"
  },
  "orig_nbformat": 4
 },
 "nbformat": 4,
 "nbformat_minor": 2
}
